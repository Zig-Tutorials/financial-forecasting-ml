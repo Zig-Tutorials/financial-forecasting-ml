{
 "cells": [
  {
   "cell_type": "markdown",
   "id": "9c8e28e0",
   "metadata": {},
   "source": [
    "# Financial Forecasting Model Training Notebook\n",
    "\n",
    "This notebook demonstrates how to build a financial forecasting model using historical price data. We create lag features and a moving average, then train a RandomForestRegressor to predict future closing prices."
   ]
  },
  {
   "cell_type": "code",
   "execution_count": null,
   "id": "6f55a71f",
   "metadata": {},
   "outputs": [],
   "source": [
    "# Import necessary libraries for data manipulation and modeling\n",
    "import pandas as pd  # For data manipulation\n",
    "import numpy as np   # For numerical operations\n",
    "from sklearn.model_selection import train_test_split  # For splitting the data\n",
    "from sklearn.ensemble import RandomForestRegressor   # Regression model\n",
    "from sklearn.metrics import mean_squared_error       # For model evaluation\n",
    "import matplotlib.pyplot as plt  # For plotting\n",
    "import pickle  # For saving the model\n",
    "\n",
    "# Set random seed for reproducibility\n",
    "np.random.seed(42)"
   ]
  },
  {
   "cell_type": "code",
   "execution_count": null,
   "id": "f0df5a84",
   "metadata": {},
   "outputs": [],
   "source": [
    "# Load historical price data\n",
    "# Ensure that the CSV file is located in the '../data/' folder\n",
    "data = pd.read_csv('../data/historical_prices.csv', parse_dates=['Date'])\n",
    "data.sort_values('Date', inplace=True)  # Sort by date\n",
    "\n",
    "# Display the first few rows to verify the data\n",
    "print(data.head())"
   ]
  },
  {
   "cell_type": "code",
   "execution_count": null,
   "id": "e80abcb3",
   "metadata": {},
   "outputs": [],
   "source": [
    "# Feature Engineering: Create lag features and moving average\n",
    "# Create a lag feature for the previous day's closing price\n",
    "data['Close_Lag1'] = data['Close'].shift(1)\n",
    "\n",
    "# Create a 5-day moving average of the closing price\n",
    "data['MA_5'] = data['Close'].rolling(window=5).mean()\n",
    "\n",
    "# Remove rows with NaN values created by shifting and rolling\n",
    "data.dropna(inplace=True)\n",
    "\n",
    "# Verify the new features\n",
    "print(data.head())"
   ]
  },
  {
   "cell_type": "code",
   "execution_count": null,
   "id": "6ce31ed7",
   "metadata": {},
   "outputs": [],
   "source": [
    "# Define features and target variable\n",
    "features = ['Close_Lag1', 'MA_5']  # Predictors\n",
    "target = 'Close'                  # What we want to forecast\n",
    "\n",
    "X = data[features]\n",
    "y = data[target]\n",
    "\n",
    "# Split the data into training and testing sets (80% train, 20% test)\n",
    "X_train, X_test, y_train, y_test = train_test_split(X, y, test_size=0.2, shuffle=False)\n",
    "\n",
    "# Display the shapes of the datasets\n",
    "print('Training set shape:', X_train.shape)\n",
    "print('Testing set shape:', X_test.shape)"
   ]
  },
  {
   "cell_type": "code",
   "execution_count": null,
   "id": "9d6762e6",
   "metadata": {},
   "outputs": [],
   "source": [
    "# Train a RandomForestRegressor model on the training data\n",
    "model = RandomForestRegressor(n_estimators=100, random_state=42)\n",
    "model.fit(X_train, y_train)\n",
    "\n",
    "# Predict on the test set\n",
    "predictions = model.predict(X_test)\n",
    "\n",
    "# Evaluate the model using Root Mean Squared Error (RMSE)\n",
    "mse = mean_squared_error(y_test, predictions)\n",
    "rmse = np.sqrt(mse)\n",
    "print('Test RMSE:', rmse)"
   ]
  },
  {
   "cell_type": "code",
   "execution_count": null,
   "id": "0519e46b",
   "metadata": {},
   "outputs": [],
   "source": [
    "# Plot the actual vs. predicted closing prices for visualization\n",
    "plt.figure(figsize=(10, 6))\n",
    "plt.plot(data['Date'].iloc[X_train.shape[0]:], y_test, label='Actual Close')\n",
    "plt.plot(data['Date'].iloc[X_train.shape[0]:], predictions, label='Predicted Close')\n",
    "plt.xlabel('Date')\n",
    "plt.ylabel('Close Price')\n",
    "plt.title('Actual vs Predicted Closing Prices')\n",
    "plt.legend()\n",
    "plt.show()"
   ]
  },
  {
   "cell_type": "code",
   "execution_count": null,
   "id": "bf64cc7c",
   "metadata": {},
   "outputs": [],
   "source": [
    "# Save the trained model to the '../model/' directory\n",
    "model_save_path = '../model/financial_forecasting_model.pkl'\n",
    "with open(model_save_path, 'wb') as f:\n",
    "    pickle.dump(model, f)\n",
    "\n",
    "print('Trained model saved successfully!')"
   ]
  },
  {
   "cell_type": "markdown",
   "id": "0d96988a",
   "metadata": {},
   "source": [
    "### Next Steps\n",
    "\n",
    "Once the model is trained, you can use it to forecast future prices. Consider integrating the model into a web app or API endpoint for real-time predictions."
   ]
  }
 ],
 "metadata": {
  "kernelspec": {
   "display_name": "Python 3",
   "language": "python",
   "name": "python3"
  },
  "language_info": {
   "name": "python",
   "version": "3.10"
  }
 },
 "nbformat": 4,
 "nbformat_minor": 5
}